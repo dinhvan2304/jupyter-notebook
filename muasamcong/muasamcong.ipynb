{
 "cells": [
  {
   "cell_type": "code",
   "execution_count": null,
   "metadata": {},
   "outputs": [],
   "source": [
    "import pandas as pd\n",
    "\n",
    "data = pd.read_csv('/Users/dinhvan/Documents/Projects/Crawl/jupyter/muasamcong/Result_last (1).csv')\n",
    "data = data.astype(str)\n",
    "url = 'http://muasamcong.mpi.gov.vn:8081/biddauthau/trangchu/tbmt/viewChiTiet?bidNo=20220951806&bidTurnNo=00&lang='\n",
    "data['url'] = 'http://muasamcong.mpi.gov.vn:8081/biddauthau/trangchu/tbmt/viewChiTiet?bidNo='+data['So_TBMT']+'&bidTurnNo=0'+ data['So_TBMT_version'] + '&lang='\n",
    "# data1 = data[['url','So_hieu_KHLCNT']]\n",
    "# data.to_csv('url_muasamcong.csv')\n",
    "\n",
    "data = data.drop_duplicates(subset=['So_TBMT'],ignore_index=True)\n",
    "data\n"
   ]
  },
  {
   "cell_type": "code",
   "execution_count": null,
   "metadata": {},
   "outputs": [],
   "source": [
    "import pandas as pd\n",
    "data2 = pd.read_csv('/Users/dinhvan/Documents/Projects/Crawl/scrapy/muasamcong/muasamcong/spiders/raw_muasamcong.csv')\n",
    "data2['den_ngay'] = data2['den_ngay'].str[:10]\n",
    "data2['den_ngay'] = data2['den_ngay'].str.split('/')\n",
    "data2['den_ngay'] = data2['den_ngay'].str[2] + data2['den_ngay'].str[1] + data2['den_ngay'].str[0]\n",
    "\n",
    "data2['thoi_diem_dang_tai'] = data2['thoi_diem_dang_tai'].str[:10]\n",
    "data2['thoi_diem_dang_tai'] = data2['thoi_diem_dang_tai'].str.split('/')\n",
    "data2['thoi_diem_dang_tai'] = data2['thoi_diem_dang_tai'].str[2] + data2['thoi_diem_dang_tai'].str[1] + data2['thoi_diem_dang_tai'].str[0]\n",
    "\n",
    "data2['thoi_diem_dong_mo'] = data2['thoi_diem_dong_mo'].str[:10]\n",
    "data2['thoi_diem_dong_mo'] = data2['thoi_diem_dong_mo'].str.split('/')\n",
    "data2['thoi_diem_dong_mo'] = data2['thoi_diem_dong_mo'].str[2] + data2['thoi_diem_dong_mo'].str[1] + data2['thoi_diem_dong_mo'].str[0]\n",
    "\n",
    "data2['thoi_diem_nhan_EHSDT'] = data2['thoi_diem_nhan_EHSDT'].str[:10]\n",
    "data2['thoi_diem_nhan_EHSDT'] = data2['thoi_diem_nhan_EHSDT'].str.split('/')\n",
    "data2['thoi_diem_nhan_EHSDT'] = data2['thoi_diem_nhan_EHSDT'].str[2] + data2['thoi_diem_nhan_EHSDT'].str[1] + data2['thoi_diem_nhan_EHSDT'].str[0]\n",
    "dict_den_ngay = dict(zip(data2['url'],data2['den_ngay']))\n",
    "dict_dang_tai = dict(zip(data2['url'],data2['thoi_diem_dang_tai']))\n",
    "dict_dong_mo = dict(zip(data2['url'],data2['thoi_diem_dong_mo']))\n",
    "dict_E = dict(zip(data2['url'],data2['thoi_diem_nhan_EHSDT']))\n",
    "data2\n"
   ]
  },
  {
   "cell_type": "code",
   "execution_count": null,
   "metadata": {},
   "outputs": [],
   "source": [
    "data3 = pd.read_csv('/Users/dinhvan/Documents/Projects/Crawl/jupyter/muasamcong/url_muasamcong.csv')\n",
    "data3.drop(data3.columns[[0,1]], axis=1, inplace=True)\n",
    "data3 = data3.drop_duplicates(subset=['So_TBMT'],keep='first',ignore_index=True)\n",
    "data3['Thoi_diem_dang_tai'] =  data3['url'].map(dict_dang_tai)\n",
    "data3['Thoi_diem_dong/mo_thau'] = data3['url'].map(dict_dong_mo)\n",
    "data3['Den_ngay'] = data3['url'].map(dict_den_ngay)\n",
    "data3['Thoi_gian_nhan_EHSTD_tu_ngay'] = data3['url'].map(dict_E)\n",
    "data3\n"
   ]
  },
  {
   "cell_type": "code",
   "execution_count": null,
   "metadata": {},
   "outputs": [],
   "source": [
    "data3.to_csv('/Users/dinhvan/Documents/Projects/Crawl/jupyter/muasamcong/data_muasamcong_2_12.csv')"
   ]
  }
 ],
 "metadata": {
  "kernelspec": {
   "display_name": "Python 3.9.6 64-bit",
   "language": "python",
   "name": "python3"
  },
  "language_info": {
   "codemirror_mode": {
    "name": "ipython",
    "version": 3
   },
   "file_extension": ".py",
   "mimetype": "text/x-python",
   "name": "python",
   "nbconvert_exporter": "python",
   "pygments_lexer": "ipython3",
   "version": "3.9.6 (default, Sep 26 2022, 11:37:49) \n[Clang 14.0.0 (clang-1400.0.29.202)]"
  },
  "orig_nbformat": 4,
  "vscode": {
   "interpreter": {
    "hash": "31f2aee4e71d21fbe5cf8b01ff0e069b9275f58929596ceb00d14d90e3e16cd6"
   }
  }
 },
 "nbformat": 4,
 "nbformat_minor": 2
}
