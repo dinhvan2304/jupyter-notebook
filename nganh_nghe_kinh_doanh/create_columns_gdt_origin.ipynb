{
 "cells": [
  {
   "cell_type": "code",
   "execution_count": null,
   "metadata": {},
   "outputs": [],
   "source": [
    "import pandas as pd\n",
    "\n",
    "gdt_origin  = pd.read_csv('/Users/dinhvan/Projects/Code/jupyter/nganh_nghe_kinh_doanh/gdt_origin.csv', dtype = str)\n",
    "gdt_origin"
   ]
  },
  {
   "cell_type": "code",
   "execution_count": null,
   "metadata": {},
   "outputs": [],
   "source": [
    "bussiness_sector = pd.read_csv('/Users/dinhvan/Projects/Code/jupyter/nganh_nghe_kinh_doanh/bussiness_sector.csv', dtype = str)\n",
    "bussiness_sector_2 = bussiness_sector.loc[(~bussiness_sector['cap_2'].isna())]\n",
    "bussiness_sector_3 = bussiness_sector.loc[(~bussiness_sector['cap_3'].isna())]\n",
    "bussiness_sector_4 = bussiness_sector.loc[(~bussiness_sector['cap_4'].isna())]\n",
    "bussiness_sector_5 = bussiness_sector.loc[(~bussiness_sector['cap_5'].isna())]\n",
    "\n",
    "dict_business_2 = dict(zip(bussiness_sector_2['sector'], bussiness_sector_2['cap_2']))\n",
    "dict_business_3 = dict(zip(bussiness_sector_3['sector'], bussiness_sector_3['cap_3']))\n",
    "dict_business_4 = dict(zip(bussiness_sector_4['sector'], bussiness_sector_4['cap_4']))\n",
    "dict_business_5 = dict(zip(bussiness_sector_5['sector'], bussiness_sector_5['cap_5']))\n"
   ]
  },
  {
   "cell_type": "code",
   "execution_count": null,
   "metadata": {},
   "outputs": [],
   "source": [
    "gdt = gdt_origin.loc[gdt_origin['nganh_nghe'].str.strip().str[-1] == ';']\n",
    "gdt.reset_index(inplace=False)\n",
    "# del gdt['index']"
   ]
  },
  {
   "cell_type": "code",
   "execution_count": null,
   "metadata": {},
   "outputs": [],
   "source": [
    "gdt['nganh_nghe'] = gdt['nganh_nghe'].str.strip(';')\n",
    "gdt['business_sector'] = gdt['nganh_nghe'].map(dict_business_4)\n",
    "gdt['business_sector'] = gdt['business_sector'].fillna(gdt['nganh_nghe'].map(dict_business_2))\n",
    "gdt['business_sector'] = gdt['business_sector'].fillna(gdt['nganh_nghe'].map(dict_business_5))\n",
    "gdt['business_sector'] = gdt['business_sector'].fillna(gdt['nganh_nghe'].map(dict_business_3))\n",
    "gdt"
   ]
  },
  {
   "cell_type": "code",
   "execution_count": null,
   "metadata": {},
   "outputs": [],
   "source": [
    "\n",
    "gdt_2 = gdt.loc[~gdt['business_sector'].isna()]\n",
    "nganh_chinh_code = {\n",
    "    \"A\": [str(i).zfill(2) for i in range(1, 4)],\n",
    "    \"B\": [str(i).zfill(2) for i in range(5, 10)],\n",
    "    \"C\": [str(i).zfill(2) for i in range(10, 34)],\n",
    "    \"D\": [str(35).zfill(2)],\n",
    "    \"E\": [str(i).zfill(2) for i in range(36, 40)],\n",
    "    \"F\": [str(i).zfill(2) for i in range(41, 44)],\n",
    "    \"G\": [str(i).zfill(2) for i in range(45, 48)],\n",
    "    \"H\": [str(i).zfill(2) for i in range(49, 54)],\n",
    "    \"I\": [str(i).zfill(2) for i in range(55, 57)],\n",
    "    \"J\": [str(i).zfill(2) for i in range(58, 64)],\n",
    "    \"K\": [str(i).zfill(2) for i in range(64, 67)],\n",
    "    \"L\": [str(68).zfill(2)],\n",
    "    \"M\": [str(i).zfill(2) for i in range(69, 76)],\n",
    "    \"N\": [str(i).zfill(2) for i in range(77, 83)],\n",
    "    \"O\": [str(84).zfill(2)],\n",
    "    \"P\": [str(85).zfill(2)],\n",
    "    \"Q\": [str(i).zfill(2) for i in range(86, 89)],\n",
    "    \"R\": [str(i).zfill(2) for i in range(90, 94)],\n",
    "    \"S\": [str(i).zfill(2) for i in range(94, 97)],\n",
    "    \"T\": [str(i).zfill(2) for i in range(97, 99)],\n",
    "    \"U\": [str(99).zfill(2)],\n",
    "}\n",
    "def matchingKeys(dictionary, searchString):\n",
    "        return [\n",
    "            key for key, val in dictionary.items() if any(searchString in s for s in val)\n",
    "        ]\n",
    "\n",
    "gdt_2['temp'] = gdt_2['business_sector'].str[:2]\n",
    "gdt_2['main_business_code'] = gdt_2.apply(lambda x: matchingKeys(nganh_chinh_code,x['temp'])[0], axis= 1)\n",
    "gdt_2"
   ]
  },
  {
   "cell_type": "code",
   "execution_count": null,
   "metadata": {},
   "outputs": [],
   "source": [
    "gdt_2.to_csv('/Users/dinhvan/Projects/Code/jupyter/nganh_nghe_kinh_doanh/gdt_origin_update.csv', index = False)"
   ]
  }
 ],
 "metadata": {
  "kernelspec": {
   "display_name": "Python 3",
   "language": "python",
   "name": "python3"
  },
  "language_info": {
   "codemirror_mode": {
    "name": "ipython",
    "version": 3
   },
   "file_extension": ".py",
   "mimetype": "text/x-python",
   "name": "python",
   "nbconvert_exporter": "python",
   "pygments_lexer": "ipython3",
   "version": "3.9.6"
  },
  "orig_nbformat": 4
 },
 "nbformat": 4,
 "nbformat_minor": 2
}
