{
 "cells": [
  {
   "cell_type": "code",
   "execution_count": null,
   "metadata": {},
   "outputs": [],
   "source": [
    "import pandas as pd\n",
    "import numpy as np\n",
    "\n",
    "SOE2_raw = pd.read_excel(\"/Users/dinhvan/Document/Projects/crawl_data/jupyter/soe/SOE2_result.xlsx\", dtype = str)\n",
    "lost_SOE2 = SOE2_raw.loc[(~SOE2_raw['Mã số thuế SOE2'].isna()) &( SOE2_raw['Tên SOE2'].isna())] \n",
    "lost_SOE2"
   ]
  },
  {
   "cell_type": "code",
   "execution_count": null,
   "metadata": {},
   "outputs": [],
   "source": [
    "SOE3_raw = pd.read_excel(\"/Users/dinhvan/Document/Projects/crawl_data/jupyter/soe/SOE3_update_27_12.xlsx\", dtype = str)\n",
    "lost_SOE3 = SOE3_raw.loc[(~SOE3_raw['Mã số thuế SOE3'].isna()) &( SOE3_raw['Tên SOE3'].isna())] \n",
    "lost_SOE3"
   ]
  },
  {
   "cell_type": "code",
   "execution_count": null,
   "metadata": {},
   "outputs": [],
   "source": [
    "SOE4_raw = pd.read_excel(\"/Users/dinhvan/Document/Projects/crawl_data/jupyter/soe/SOE4_raw.xlsx\", dtype = str)\n",
    "lost_SOE4 = SOE4_raw.loc[(~SOE4_raw['Mã số thuế SOE4'].isna()) &( SOE4_raw['Tên SOE4'].isna())] \n",
    "lost_SOE4\n"
   ]
  },
  {
   "cell_type": "code",
   "execution_count": null,
   "metadata": {},
   "outputs": [],
   "source": [
    "SOE4_crawl_lost = pd.read_excel(\"/Users/dinhvan/Document/Projects/crawl_data/jupyter/soe/lost_SOE4_crawl.xlsx\", dtype = str)\n",
    "SOE4_crawl_lost"
   ]
  },
  {
   "cell_type": "code",
   "execution_count": null,
   "metadata": {},
   "outputs": [],
   "source": [
    "dict_SOE4_name = dict(zip(SOE4_crawl_lost['Mã số thuế'],SOE4_crawl_lost['Tên công ty']))\n",
    "SOE4_raw['Tên SOE4'] = SOE4_raw['Tên SOE4'].fillna(SOE4_raw['Mã số thuế SOE4'].map(dict_SOE4_name))\n",
    "\n",
    "dict_SOE4_NN = dict(zip(SOE4_crawl_lost['Mã số thuế'],SOE4_crawl_lost['Ngành nghề kinh doanh']))\n",
    "SOE4_raw['Ngành nghề kinh doanh chính'] = SOE4_raw['Ngành nghề kinh doanh chính'].fillna(SOE4_raw['Mã số thuế SOE4'].map(dict_SOE4_NN))\n",
    "\n",
    "dict_SOE4_dc = dict(zip(SOE4_crawl_lost['Mã số thuế'],SOE4_crawl_lost['Địa chỉ']))\n",
    "SOE4_raw['Địa chỉ'] = SOE4_raw['Địa chỉ'].fillna(SOE4_raw['Mã số thuế SOE4'].map(dict_SOE4_dc))\n",
    "SOE4_raw"
   ]
  },
  {
   "cell_type": "code",
   "execution_count": null,
   "metadata": {},
   "outputs": [],
   "source": [
    "dict_SOE2_name = dict(zip(SOE2_raw['Mã số thuế SOE2'],SOE2_raw['Tên SOE2']))\n",
    "SOE4_raw['Tên SOE2'] = SOE4_raw['Tên SOE2'].fillna(SOE4_raw['Mã số thuế SOE2'].map(dict_SOE2_name))"
   ]
  },
  {
   "cell_type": "code",
   "execution_count": null,
   "metadata": {},
   "outputs": [],
   "source": [
    "SOE4_raw.to_excel(\"/Users/dinhvan/Document/Projects/crawl_data/jupyter/soe/SOE4_result.xlsx\",index = False)"
   ]
  }
 ],
 "metadata": {
  "kernelspec": {
   "display_name": "Python 3",
   "language": "python",
   "name": "python3"
  },
  "language_info": {
   "codemirror_mode": {
    "name": "ipython",
    "version": 3
   },
   "file_extension": ".py",
   "mimetype": "text/x-python",
   "name": "python",
   "nbconvert_exporter": "python",
   "pygments_lexer": "ipython3",
   "version": "3.9.6"
  },
  "orig_nbformat": 4,
  "vscode": {
   "interpreter": {
    "hash": "31f2aee4e71d21fbe5cf8b01ff0e069b9275f58929596ceb00d14d90e3e16cd6"
   }
  }
 },
 "nbformat": 4,
 "nbformat_minor": 2
}
