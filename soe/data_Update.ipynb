{
 "cells": [
  {
   "cell_type": "code",
   "execution_count": null,
   "metadata": {},
   "outputs": [],
   "source": [
    "import pandas as pd\n",
    "data_DN1 = pd.read_csv(\"/Users/dinhvan/Document/Projects/crawl_data/data_doanh_nghiep/Thong_tin_doanh_nghiep.csv\", dtype = str)\n",
    "data_DN2 = pd.read_csv(\"/Users/dinhvan/Document/Projects/crawl_data/data_doanh_nghiep/clients.csv\", dtype = str)\n",
    "data_DN2['mst'] = data_DN2['mst'].str.replace(\"'\",'')"
   ]
  },
  {
   "cell_type": "code",
   "execution_count": null,
   "metadata": {},
   "outputs": [],
   "source": [
    "data_SOE1_old = pd.read_excel(\"/Users/dinhvan/Document/Projects/crawl_data/selenium/soe/SOE_16_12_Update.xlsx\", dtype = str,sheet_name='SOE1')\n",
    "data_SOE2_old = pd.read_excel(\"/Users/dinhvan/Document/Projects/crawl_data/selenium/soe/SOE_16_12_Update.xlsx\", dtype = str,sheet_name='SOE2')\n",
    "data_SOE3_old = pd.read_excel(\"/Users/dinhvan/Document/Projects/crawl_data/selenium/soe/SOE_16_12_Update.xlsx\", dtype = str,sheet_name='SOE3')\n",
    "data_SOE4_old = pd.read_excel(\"/Users/dinhvan/Document/Projects/crawl_data/selenium/soe/SOE_16_12_Update.xlsx\", dtype = str,sheet_name='SOE4')\n"
   ]
  },
  {
   "cell_type": "code",
   "execution_count": null,
   "metadata": {},
   "outputs": [],
   "source": [
    "data_SOE2_bonus = pd.read_excel(\"/Users/dinhvan/Downloads/DS_SOE2.xlsx\", dtype = str)"
   ]
  },
  {
   "cell_type": "code",
   "execution_count": null,
   "metadata": {},
   "outputs": [],
   "source": [
    "data_SOE2_split_SOE3 = data_SOE2_old.loc[~data_SOE2_old['Tên SOE2'].isna()]\n",
    "data_SOE2_nosplit_SOE3 = data_SOE2_old.loc[data_SOE2_old['Tên SOE2'].isna()]"
   ]
  },
  {
   "cell_type": "code",
   "execution_count": null,
   "metadata": {},
   "outputs": [],
   "source": [
    "data_SOE2_bonus_split = data_SOE2_bonus[~data_SOE2_bonus['MST_DVC'].isin(data_SOE2_old[\"Mã số thuế SOE2\"])]\n",
    "\n",
    "map_NNKD_1 = dict(zip(data_DN1['Mã số thuế'],data_DN1['Ngành nghề chính']))\n",
    "map_NNKD_2 = dict(zip(data_DN2['mst'], data_DN2['main_business']))\n",
    "data_SOE2_bonus_split['Ngành nghề kinh doanh chính'] = data_SOE2_bonus_split['MST_DVC'].map(map_NNKD_1)\n",
    "data_SOE2_bonus_split['Ngành nghề kinh doanh chính'] = data_SOE2_bonus_split['Ngành nghề kinh doanh chính'].fillna(data_SOE2_bonus_split['MST_DVC'].map(map_NNKD_2))\n",
    "\n",
    "\n",
    "map_DC_1 = dict(zip(data_DN1['Mã số thuế'],data_DN1['Địa chỉ trụ sở']))\n",
    "map_DC_2 = dict(zip(data_DN2['mst'], data_DN2['location']))\n",
    "data_SOE2_bonus_split['Địa chỉ'] = data_SOE2_bonus_split['MST_DVC'].map(map_DC_1)\n",
    "data_SOE2_bonus_split['Địa chỉ'] = data_SOE2_bonus_split['Địa chỉ'].fillna(data_SOE2_bonus_split['MST_DVC'].map(map_DC_2))\n",
    "\n",
    "\n",
    "map_TP_1 = dict(zip(data_DN1['Mã số thuế'],data_DN1['Thành phố']))\n",
    "map_TP_2 = dict(zip(data_DN2['mst'], data_DN2['city']))\n",
    "data_SOE2_bonus_split['Thành Phố'] = data_SOE2_bonus_split['MST_DVC'].map(map_TP_1)\n",
    "data_SOE2_bonus_split['Thành Phố'] = data_SOE2_bonus_split['Thành Phố'].fillna(data_SOE2_bonus_split['MST_DVC'].map(map_TP_2))\n",
    "\n",
    "map_name_SOE2_1 = dict(zip(data_DN1['Mã số thuế'],data_DN1['Tên chính thức']))\n",
    "map_name_SOE2_2 = dict(zip(data_DN2['mst'], data_DN2['vi_name']))\n",
    "data_SOE2_bonus_split['Tên SOE2'] = data_SOE2_bonus_split['MST_DVC'].map(map_name_SOE2_1)\n",
    "data_SOE2_bonus_split['Tên SOE2'] = data_SOE2_bonus_split['Tên SOE2'].fillna(data_SOE2_bonus_split['MST_DVC'].map(map_name_SOE2_2))\n",
    "\n",
    "map_name_SOE1 = dict(zip(data_SOE1_old['Mã số thuế SOE1'], data_SOE1_old['Tên SOE1']))\n",
    "data_SOE2_bonus_split['Tên SOE1'] = data_SOE2_bonus_split['MST'].map(map_name_SOE1)\n",
    "# data_update_SOE2.loc[data_update_SOE2['Bussiness'].isna()]\n",
    "\n",
    "data_SOE2_bonus_split.rename(columns={   'MST': 'Mã số thuế SOE1',\n",
    "                                    'MST_DVC' : 'Mã số thuế SOE2',\n",
    "                                    'DT' : 'Doanh thu'\n",
    "                                        }, inplace= True\n",
    "                            )\n",
    "\n",
    "# data_SOE2_total = pd.concat([data_update_SOE2,data_SOE2], ignore_index= True)\n",
    "# data_SOE2_total\n",
    "\n",
    "\n",
    "# data_SOE2_bonus.loc[data_SOE2_bonus['Tên SOE1'].isna()]\n",
    "data_SOE2_bonus_split"
   ]
  },
  {
   "cell_type": "code",
   "execution_count": null,
   "metadata": {},
   "outputs": [],
   "source": [
    "data_SOE2_new_split = pd.concat([data_SOE2_split_SOE3,data_SOE2_bonus_split], ignore_index=True)\n",
    "data_SOE2_new_split"
   ]
  },
  {
   "cell_type": "code",
   "execution_count": null,
   "metadata": {},
   "outputs": [],
   "source": []
  },
  {
   "cell_type": "code",
   "execution_count": null,
   "metadata": {},
   "outputs": [],
   "source": [
    "data_SOE2_nosplit_SOE3_new = data_SOE2_nosplit_SOE3[~data_SOE2_nosplit_SOE3['Mã số thuế SOE1'].isin(data_SOE2_new_split['Mã số thuế SOE1'])]\n",
    "data_SOE2_nosplit_SOE3_new"
   ]
  },
  {
   "cell_type": "code",
   "execution_count": null,
   "metadata": {},
   "outputs": [],
   "source": [
    "data_SOE2_new = pd.concat([data_SOE2_new_split,data_SOE2_nosplit_SOE3_new], ignore_index=True)\n",
    "data_SOE2_new"
   ]
  },
  {
   "cell_type": "code",
   "execution_count": null,
   "metadata": {},
   "outputs": [],
   "source": [
    "data_SOE4_bonus = pd.read_excel(\"/Users/dinhvan/Downloads/DS_SOE4.xlsx\", dtype = str)"
   ]
  },
  {
   "cell_type": "code",
   "execution_count": null,
   "metadata": {},
   "outputs": [],
   "source": [
    "data_SOE4_bonus_split = data_SOE4_bonus[~data_SOE4_bonus['MST_DVC'].isin(data_SOE4_old[\"Mã số thuế SOE4\"])]\n",
    "\n",
    "map_NNKD_1 = dict(zip(data_DN1['Mã số thuế'],data_DN1['Ngành nghề chính']))\n",
    "map_NNKD_2 = dict(zip(data_DN2['mst'], data_DN2['main_business']))\n",
    "data_SOE4_bonus_split['Ngành nghề kinh doanh chính'] = data_SOE4_bonus_split['MST_DVC'].map(map_NNKD_1)\n",
    "data_SOE4_bonus_split['Ngành nghề kinh doanh chính'] = data_SOE4_bonus_split['Ngành nghề kinh doanh chính'].fillna(data_SOE4_bonus_split['MST_DVC'].map(map_NNKD_2))\n",
    "\n",
    "\n",
    "map_DC_1 = dict(zip(data_DN1['Mã số thuế'],data_DN1['Địa chỉ trụ sở']))\n",
    "map_DC_2 = dict(zip(data_DN2['mst'], data_DN2['location']))\n",
    "data_SOE4_bonus_split['Địa chỉ'] = data_SOE4_bonus_split['MST_DVC'].map(map_DC_1)\n",
    "data_SOE4_bonus_split['Địa chỉ'] = data_SOE4_bonus_split['Địa chỉ'].fillna(data_SOE4_bonus_split['MST_DVC'].map(map_DC_2))\n",
    "\n",
    "\n",
    "map_TP_1 = dict(zip(data_DN1['Mã số thuế'],data_DN1['Thành phố']))\n",
    "map_TP_2 = dict(zip(data_DN2['mst'], data_DN2['city']))\n",
    "data_SOE4_bonus_split['Thành Phố'] = data_SOE4_bonus_split['MST_DVC'].map(map_TP_1)\n",
    "data_SOE4_bonus_split['Thành Phố'] = data_SOE4_bonus_split['Thành Phố'].fillna(data_SOE4_bonus_split['MST_DVC'].map(map_TP_2))\n",
    "\n",
    "map_name_SOE2_1 = dict(zip(data_DN1['Mã số thuế'],data_DN1['Tên chính thức']))\n",
    "map_name_SOE2_2 = dict(zip(data_DN2['mst'], data_DN2['vi_name']))\n",
    "data_SOE4_bonus_split['Tên SOE4'] = data_SOE4_bonus_split['MST_DVC'].map(map_name_SOE2_1)\n",
    "data_SOE4_bonus_split['Tên SOE4'] = data_SOE4_bonus_split['Tên SOE4'].fillna(data_SOE4_bonus_split['MST_DVC'].map(map_name_SOE2_2))\n",
    "\n",
    "map_name_SOE2 = dict(zip(data_SOE2_new['Mã số thuế SOE2'], data_SOE2_new['Tên SOE2']))\n",
    "data_SOE4_bonus_split['Tên SOE2'] = data_SOE4_bonus_split['MST'].map(map_name_SOE2)\n",
    "# data_update_SOE2.loc[data_update_SOE2['Bussiness'].isna()]\n",
    "\n",
    "data_SOE4_bonus_split.rename(columns={   'MST': 'Mã số thuế SOE2',\n",
    "                                    'MST_DVC' : 'Mã số thuế SOE4',\n",
    "                                    'DT' : 'Doanh thu'\n",
    "                                        }, inplace= True\n",
    "                            )\n",
    "\n",
    "# data_SOE2_total = pd.concat([data_update_SOE2,data_SOE2], ignore_index= True)\n",
    "# data_SOE2_total\n",
    "\n",
    "\n",
    "# data_SOE2_bonus.loc[data_SOE2_bonus['Tên SOE1'].isna()]\n",
    "data_SOE4_bonus_split"
   ]
  },
  {
   "cell_type": "code",
   "execution_count": null,
   "metadata": {},
   "outputs": [],
   "source": [
    "data_SOE4_old"
   ]
  },
  {
   "cell_type": "code",
   "execution_count": null,
   "metadata": {},
   "outputs": [],
   "source": [
    "data_SOE4_raw = pd.concat([data_SOE4_old,data_SOE4_bonus_split], ignore_index = True)\n",
    "data_SOE4_raw"
   ]
  },
  {
   "cell_type": "code",
   "execution_count": null,
   "metadata": {},
   "outputs": [],
   "source": [
    "data_SOE4_raw_split = data_SOE4_raw.loc[~data_SOE4_raw['Mã số thuế SOE4'].isna()]\n",
    "data_SOE4_raw_split "
   ]
  },
  {
   "cell_type": "code",
   "execution_count": null,
   "metadata": {},
   "outputs": [],
   "source": [
    "data_SOE4_crawl = pd.read_csv('/Users/dinhvan/Document/Projects/crawl_data/jupyter/soe/Chi_nhanh_SOE2_bonus.csv', dtype= str)\n",
    "data_SOE4_crawl = data_SOE4_crawl[['mst_HO','mst_chi_nhanh','Dia_chi_chi_nhanh','ten_chi_nhanh']]\n",
    "data_SOE4_crawl = data_SOE4_crawl.loc[~data_SOE4_crawl['mst_chi_nhanh'].isna()]\n",
    "data_SOE4_crawl.rename(columns={'mst_HO':'Mã số thuế SOE2',\n",
    "                        'mst_chi_nhanh':'Mã số thuế SOE4',\n",
    "                        'Dia_chi_chi_nhanh':'Địa chỉ', \n",
    "                        'ten_chi_nhanh': 'Tên SOE4'}\n",
    "                       ,inplace= True)\n",
    "dict_name_SOE2 = dict(zip(data_SOE2_new['Mã số thuế SOE2'], data_SOE2_new['Tên SOE2']))\n",
    "data_SOE4_crawl['Tên SOE2'] = data_SOE4_crawl['Mã số thuế SOE2'].map(dict_name_SOE2)\n",
    "data_SOE4_crawl"
   ]
  },
  {
   "cell_type": "code",
   "execution_count": null,
   "metadata": {},
   "outputs": [],
   "source": [
    "\n",
    "map_NNKD_1 = dict(zip(data_DN1['Mã số thuế'],data_DN1['Ngành nghề chính']))\n",
    "map_NNKD_2 = dict(zip(data_DN2['mst'], data_DN2['main_business']))\n",
    "data_SOE4_crawl['Ngành nghề kinh doanh chính'] = data_SOE4_crawl['Mã số thuế SOE4'].map(map_NNKD_1)\n",
    "data_SOE4_crawl['Ngành nghề kinh doanh chính'] = data_SOE4_crawl['Ngành nghề kinh doanh chính'].fillna(data_SOE4_crawl['Mã số thuế SOE4'].map(map_NNKD_2))\n",
    "\n",
    "data_SOE4_crawl"
   ]
  },
  {
   "cell_type": "code",
   "execution_count": null,
   "metadata": {},
   "outputs": [],
   "source": [
    "data_SOE4_raw1 = pd.concat([data_SOE4_raw_split,data_SOE4_crawl], ignore_index= True)\n",
    "data_SOE4_raw1"
   ]
  },
  {
   "cell_type": "code",
   "execution_count": null,
   "metadata": {},
   "outputs": [],
   "source": [
    "data_SOE4_raw1.loc[data_SOE4_raw1['Mã số thuế SOE4'].isna()]"
   ]
  },
  {
   "cell_type": "code",
   "execution_count": null,
   "metadata": {},
   "outputs": [],
   "source": [
    "data_SOE4_raw2 = data_SOE2_new[~data_SOE2_new['Mã số thuế SOE2'].isin(data_SOE4_raw1['Mã số thuế SOE2'])]\n",
    "data_SOE4_raw2 = data_SOE4_raw2.loc[~data_SOE4_raw2['Mã số thuế SOE2'].isna()]\n",
    "data_SOE4_raw2 = data_SOE4_raw2[['Mã số thuế SOE2','Tên SOE2']]\n",
    "data_SOE4_raw2"
   ]
  },
  {
   "cell_type": "code",
   "execution_count": null,
   "metadata": {},
   "outputs": [],
   "source": [
    "data_SOE4 = pd.concat([data_SOE4_raw1,data_SOE4_raw2], ignore_index= True)\n",
    "data_SOE4"
   ]
  },
  {
   "cell_type": "code",
   "execution_count": null,
   "metadata": {},
   "outputs": [],
   "source": [
    "data_SOE4.to_excel('/Users/dinhvan/Document/Projects/crawl_data/jupyter/soe/SOE4_raw.xlsx', index = False)"
   ]
  }
 ],
 "metadata": {
  "kernelspec": {
   "display_name": "Python 3",
   "language": "python",
   "name": "python3"
  },
  "language_info": {
   "codemirror_mode": {
    "name": "ipython",
    "version": 3
   },
   "file_extension": ".py",
   "mimetype": "text/x-python",
   "name": "python",
   "nbconvert_exporter": "python",
   "pygments_lexer": "ipython3",
   "version": "3.10.9 (main, Dec 15 2022, 18:25:35) [Clang 14.0.0 (clang-1400.0.29.202)]"
  },
  "orig_nbformat": 4,
  "vscode": {
   "interpreter": {
    "hash": "31f2aee4e71d21fbe5cf8b01ff0e069b9275f58929596ceb00d14d90e3e16cd6"
   }
  }
 },
 "nbformat": 4,
 "nbformat_minor": 2
}
