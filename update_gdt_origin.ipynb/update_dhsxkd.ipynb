{
 "cells": [
  {
   "cell_type": "code",
   "execution_count": null,
   "metadata": {},
   "outputs": [],
   "source": [
    "import pandas as pd\n",
    "from urllib.parse import quote\n",
    "from sqlalchemy import create_engine, text\n",
    "from pathlib import Path\n",
    "import numpy as np\n",
    "from underthesea import text_normalize"
   ]
  },
  {
   "cell_type": "code",
   "execution_count": null,
   "metadata": {},
   "outputs": [],
   "source": [
    "# output_117 = pd.read_csv('/Users/dinhvan/Projects/Code/crawl_data/selenium/ma_so_thue/dnm/output_dnm_1.csv', dtype = str)\n",
    "# output_210 = pd.read_csv('/Users/dinhvan/Projects/Code/crawl_data/selenium/ma_so_thue/dnm/output_dnm_2.csv', dtype=str)\n",
    "# output = pd.concat([output_117,output_210], ignore_index=True)\n",
    "# output.loc[output['Trạng thái'].isna()]"
   ]
  },
  {
   "cell_type": "code",
   "execution_count": null,
   "metadata": {},
   "outputs": [],
   "source": [
    "\"\"\" Doanh nghiep hien huu processing \"\"\"\n",
    "# dhsxkd_all = pd.read_csv(\"072022.csv\", sep=\"|\")\n",
    "# dhsxkd_all.columns"
   ]
  },
  {
   "cell_type": "code",
   "execution_count": null,
   "metadata": {},
   "outputs": [],
   "source": [
    "# sqlEngine = create_engine(\n",
    "#     \"mysql+pymysql://root:%s@172.16.10.112:3306/hkd\" % quote(\"Ptdl@123\"))\n",
    "# sqlEngine = create_engine(\"mysql+pymysql://root:@127.0.0.1:3306/bid\")\n",
    "# for i,chunk in enumerate(pd.read_csv(\"062022.csv\", sep=\"|\", chunksize=50000)):\n",
    "# \tchunk.to_sql(name=\"exist_clients\", index=False, con=sqlEngine, if_exists=\"append\")"
   ]
  },
  {
   "cell_type": "code",
   "execution_count": null,
   "metadata": {},
   "outputs": [],
   "source": [
    "# query_origin = \"SELECT DISTINCT mst, client_status FROM gdt_origin\"\n",
    "# clients_origin_sql = pd.read_sql(query_origin, con=sqlEngine)\n",
    "# clients_origin_dict = dict(zip(clients_origin_sql.mst, clients_origin_sql.client_status))\n",
    "\n",
    "# dhsxkd_temp = dhsxkd_all[['TENTINH', 'TEN_QUAN', 'TEN_PHUONG', 'TEN_KH', 'MST', 'DIACHI_KH', 'TENNGANHNGHE', 'LOAI_KH', 'TRANGTHAI_TB']]\n",
    "# dhsxkd_temp['MST'] = dhsxkd_temp['MST'].str.strip()\n",
    "# dhsxkd_temp['MST'] = dhsxkd_temp['MST'].str.upper()\n",
    "# dhsxkd_temp.drop_duplicates(subset=['MST'], inplace=True)\n",
    "# dhsxkd_temp['client_source'] = 1\n"
   ]
  },
  {
   "cell_type": "code",
   "execution_count": null,
   "metadata": {},
   "outputs": [],
   "source": [
    "# def cast_mst(mst, trang_thai):\n",
    "# \taction_type = 'none'\n",
    "# \tif mst in clients_origin_dict.keys():\n",
    "# \t\tif trang_thai == clients_origin_dict[mst]:\n",
    "# \t\t\taction_type = 'update'\n",
    "# \telse:\n",
    "# \t\taction_type = 'insert'\n",
    "\t\n",
    "# \treturn action_type"
   ]
  },
  {
   "cell_type": "code",
   "execution_count": null,
   "metadata": {},
   "outputs": [],
   "source": [
    "# dhsxkd_temp['type'] =  dhsxkd_temp.apply(lambda x: cast_mst(x['MST'], x['TRANGTHAI_TB']), axis=1)\n",
    "# dhsxkd_temp.rename(columns={'TENTINH':'tinh', 'TEN_QUAN':'huyen', 'TEN_PHUONG':'xa', 'TEN_KH':'name', 'MST':'mst', 'DIACHI_KH':'dia_chi_kd', 'TENNGANHNGHE':'nganh_nghe', 'TRANGTHAI_TB':'client_status', 'LOAI_KH':'client_type'}, inplace=True)\n",
    "# dhsxkd_temp.drop(dhsxkd_temp.loc[dhsxkd_temp['mst'] == 'KHÔNGCÓ'].index, inplace=True)\n",
    "# dhsxkd_temp"
   ]
  },
  {
   "cell_type": "code",
   "execution_count": null,
   "metadata": {},
   "outputs": [],
   "source": [
    "# dhsxkd_insert = dhsxkd_temp[dhsxkd_temp['type'] == 'insert']\n",
    "# dhsxkd_update = dhsxkd_temp[dhsxkd_temp['type'] == 'update']\n",
    "# if dhsxkd_insert.shape[0] > 0:\n",
    "# \tdhsxkd_insert.drop(['type'], axis=1, inplace=True)\n",
    "# \tdhsxkd_insert.to_sql(name=\"gdt_origin\", index=False, con=sqlEngine, if_exists=\"append\")\n",
    "\n",
    "# if dhsxkd_update.shape[0] > 0:\n",
    "# \tdhsxkd_update.drop(['type'], axis=1, inplace=True)\n",
    "# \tdhsxkd_update.to_sql(name=\"temp_dhsxkd\", index=False, con=sqlEngine, if_exists=\"replace\")\n",
    "# \tquery = \"\"\"UPDATE gdt_origin as f INNER JOIN temp_dhsxkd AS t ON t.mst = f.mst SET f.client_type = t.client_type, f.client_source = t.client_source, f.client_status = t.client_status WHERE t.mst = f.mst\"\"\"\n",
    "# \twith sqlEngine.begin() as conn:\n",
    "# \t\tconn.execute(query)"
   ]
  },
  {
   "cell_type": "code",
   "execution_count": null,
   "metadata": {},
   "outputs": [],
   "source": [
    "\"\"\" Doanh nghiep moi processing \"\"\"\n",
    "# current_path = globals()['_dh'][0]\n",
    "# path = Path(current_path)\n",
    "# parent_path = path.parent.absolute()\n",
    "\n",
    "# sqlEngine = create_engine(\n",
    "#     \"mysql+pymysql://root:%s@172.16.10.112:3306/hkd\" % quote(\"Ptdl@123\"))\n",
    "\n",
    "\n",
    "# query_origin = \"SELECT DISTINCT mst, client_status FROM gdt_origin\"\n",
    "# clients_origin_sql = pd.read_sql(query_origin, con=sqlEngine)\n",
    "# clients_origin_dict = dict(zip(clients_origin_sql.mst, clients_origin_sql.client_status))\n",
    "\n",
    "# query_new_mst = \"SELECT id, city as tinh, street as huyen, district as xa, vi_name as name, mst, location as dia_chi_kd, business as nganh_nghe, enterprise_type as client_type FROM clients\"\n",
    "# clients_new_sql = pd.read_sql(query_new_mst, con=sqlEngine)\n",
    "# clients_new_sql['mst'] = clients_new_sql['mst'].str.lstrip(\"'\")\n",
    "# clients_new_sql['mst'] = clients_new_sql['mst'].str.extract('(\\d+)')\n",
    "# clients_new_sql.drop_duplicates(subset=['mst'], inplace=True)\n",
    "# clients_new_sql['client_source'] = 2\n",
    "# clients_new_sql['client_status'] = \"Đang hoạt động\"\n",
    "# clients_new_sql['type'] =  clients_new_sql.apply(lambda x: cast_mst(x['mst'], x['client_status']), axis=1)\n",
    "# dhsxkd_insert = clients_new_sql[clients_new_sql['type'] == 'insert']\n",
    "\n",
    "# if dhsxkd_insert.shape[0] > 0:\n",
    "# \tdhsxkd_insert.drop(['type', 'id'], axis=1, inplace=True)\n",
    "# \tdhsxkd_insert.to_sql(name=\"gdt_origin\", index=False, con=sqlEngine, if_exists=\"append\")"
   ]
  },
  {
   "cell_type": "code",
   "execution_count": null,
   "metadata": {},
   "outputs": [],
   "source": [
    "\"\"\" Du lieu mua \"\"\"\n",
    "# khdn_df = pd.read_excel('KHDN.xlsx') \n",
    "# dn_vnn_2021_df = pd.read_excel('../data/DN_VNN_2021.xlsx', dtype=object, skiprows=[0,1])\n",
    "# gdt_origin_df = pd.read_csv('../data/gdt_origin.csv')\n"
   ]
  },
  {
   "cell_type": "code",
   "execution_count": null,
   "metadata": {},
   "outputs": [],
   "source": [
    "\n",
    "# khdn_df.drop_duplicates(subset=['PHONE', 'EMAIL', 'MST'], keep=\"first\", inplace=True)\n",
    "# khdn_copy = khdn_df.copy()\n",
    "# khdn_copy[\"name_giam_doc\"] = khdn_copy.apply(lambda x: x[\"TEN\"] if \"đốc\" in x[\"CHUC_DANH\"] else \"\", axis=1)\n",
    "# khdn_copy[\"name_ke_toan\"] = khdn_copy.apply(lambda x: x[\"TEN\"] if \"toán\" in x[\"CHUC_DANH\"] else \"\", axis=1)\n",
    "# khdn_copy[\"phone_giam_doc\"] = khdn_copy.apply(lambda x: x[\"PHONE\"] if \"đốc\" in x[\"CHUC_DANH\"] else \"\", axis=1)\n",
    "# khdn_copy[\"phone_ke_toan\"] = khdn_copy.apply(lambda x: x[\"PHONE\"] if \"toán\" in x[\"CHUC_DANH\"] else \"\", axis=1)\n",
    "# khdn_copy[\"email_giam_doc\"] = khdn_copy.apply(lambda x: x[\"EMAIL\"] if \"đốc\" in x[\"CHUC_DANH\"] else \"\", axis=1)\n",
    "# khdn_copy[\"email_ke_toan\"] = khdn_copy.apply(lambda x: x[\"EMAIL\"] if \"toán\" in x[\"CHUC_DANH\"] else \"\", axis=1)\n",
    "# khdn_copy"
   ]
  },
  {
   "cell_type": "code",
   "execution_count": null,
   "metadata": {},
   "outputs": [],
   "source": [
    "# khdn_copy.drop_duplicates(subset=['MST'], keep=\"last\", inplace=True)\n",
    "# hkd_df = khdn_copy.join(khdn_copy['DIA_CHI_TRU_SO'].str.rsplit(pat=',', n=4, expand=True).rename(columns={0: 'dia_diem', 4:'quoc_gia', 3:'tinh_thanh_pho', 2:'quan_huyen', 1: 'phuong_xa'}))\n",
    "# idx = hkd_df.index[(hkd_df['quan_huyen'].isnull() | hkd_df['phuong_xa'].isnull()) & hkd_df['tinh_thanh_pho'].notnull()]\n",
    "# hkd_df.at[idx, ['dia_diem', 'tinh_thanh_pho', 'quan_huyen']] = np.nan\n",
    "# hkd_df.fillna('', inplace=True)\n",
    "# hkd_df['PHONE'] = hkd_df['PHONE'].str.replace('.', '')\n",
    "# hkd_df['PHONE'] = hkd_df['PHONE'].str.replace(' ', '')\n",
    "# hkd_df.loc[(hkd_df['PHONE'].str.len() != 10) | (hkd_df['PHONE'].str.len() != 11) | (hkd_df['PHONE'] != '')]\n"
   ]
  },
  {
   "cell_type": "code",
   "execution_count": null,
   "metadata": {},
   "outputs": [],
   "source": [
    "# sqlEngine = create_engine(\"mysql+pymysql://root:%s@172.16.10.112:3306/hkd\" % quote(\"Ptdl@123\"), echo=True)\n",
    "# sqlEngine = create_engine(\"mysql+pymysql://root:@127.0.0.1:3306/bid\")\n",
    "# query_origin = \"select id, mst from gdt_origin\"\n",
    "# gdt_df = pd.read_sql(query_origin, con=sqlEngine)\n",
    "# gdt_df = gdt_df[gdt_df['mst'].notnull()]\n",
    "# gdt_df['mst'] = gdt_df['mst'].str.replace('\"', '')\n",
    "# gdt_df['mst'] = gdt_df['mst'].str.replace('\\t', '')\n"
   ]
  },
  {
   "cell_type": "code",
   "execution_count": null,
   "metadata": {},
   "outputs": [],
   "source": [
    "# hkd_df.rename(columns={'MST':'mst'}, inplace=True)\n",
    "# hkd_df['mst'] = hkd_df['mst'].str.strip()\n",
    "# df_all = hkd_df.merge(\n",
    "#             gdt_df.drop_duplicates(),\n",
    "#             on=[\"mst\"],\n",
    "#             how=\"left\",\n",
    "#             indicator=True,\n",
    "#         )\n",
    "# df_all.rename(columns={\n",
    "# \t'TEN':'nguoi_dai_dien',\n",
    "# \t'PHONE':'phone',\n",
    "# \t'EMAIL':'email',\n",
    "# \t'CHUC_DANH':'chuc_danh',\n",
    "# \t'TEN_DN': 'name',\n",
    "# \t'DIA_CHI_TRU_SO': 'dia_chi_kd',\n",
    "# \t'VON_DKY': 'von_dky',\n",
    "# \t'SO_LAO_DONG': 'so_lao_dong',\n",
    "# \t'NGANH_NGHE': 'nganh_nghe',\n",
    "# \t'phuong_xa':'xa',\n",
    "# \t'quan_huyen':'huyen',\n",
    "# \t'tinh_thanh_pho':'tinh'\n",
    "# }, inplace=True)\n",
    "# df_all.drop(['dia_diem', 'id', 'ID', 'quoc_gia'], axis=1, inplace=True)\n",
    "# df_all['so_lao_dong'] = df_all['so_lao_dong'].replace(r'', np.NaN)\n",
    "# df_all['so_lao_dong'] = df_all['so_lao_dong'].replace(np.nan, 0)\n",
    "# df_all['so_lao_dong'] = df_all['so_lao_dong'].astype('float').astype('int')\n",
    "# df_all['von_dky'] = df_all['von_dky'].replace(r'', np.NaN)\n",
    "# df_all['von_dky'] = df_all['von_dky'].replace(np.nan, 0.0)\n",
    "# df_all['von_dky'] = df_all['von_dky'].astype('float')\n",
    "# df_left = df_all[df_all[\"_merge\"] == \"left_only\"]\n",
    "# df_both = df_all[df_all[\"_merge\"] == \"both\"]"
   ]
  },
  {
   "cell_type": "code",
   "execution_count": null,
   "metadata": {},
   "outputs": [],
   "source": [
    "# # sqlEngine = create_engine(\"mysql+pymysql://root:%s@172.16.10.112:3306/hkd\" % quote(\"Ptdl@123\"), echo=True)\n",
    "# # sqlEngine = create_engine(\"mysql+pymysql://root:@127.0.0.1:3306/bid\")\n",
    "# df_both.drop(['_merge'], axis=1, inplace=True)\n",
    "# df_left.drop(['_merge'], axis=1, inplace=True)\n",
    "# # df_left.to_sql(name=\"gdt_origin\", con=sqlEngine, if_exists=\"append\", index=False)\n",
    "# df_both.to_sql(name=\"temp_client\", con=sqlEngine, if_exists=\"replace\", index=False)\n",
    "# query = \"\"\"UPDATE gdt_origin as f INNER JOIN temp_client AS t ON t.mst = f.mst SET f.phone_giam_doc = t.phone_giam_doc, f.phone_ke_toan = t.phone_ke_toan, f.email_giam_doc = t.email_giam_doc, f.email_ke_toan = t.email_ke_toan, f.name_giam_doc = t.name_giam_doc, f.name_ke_toan = t.name_ke_toan WHERE f.mst = t.mst\"\"\"\n",
    "# with sqlEngine.begin() as conn:\n",
    "# \tconn.execute(query)"
   ]
  },
  {
   "cell_type": "code",
   "execution_count": null,
   "metadata": {},
   "outputs": [],
   "source": [
    "\"\"\"Update enterprise type\"\"\"\n",
    "# query_enterprise = \"select id, name from gdt_origin where (name_ke_toan is not null or name_giam_doc is not null) and client_source = 0\"\n",
    "# query_enterprise = \"select id,name from gdt_origin where (name like '%công ty%' or name like '%cp%' or name like '%doanh nghiep%' or name like '%dn%') and client_type = 'Hộ kinh doanh cá thể'\"\n",
    "# clients_enterprise_sql = pd.read_sql(text(query_enterprise), con=sqlEngine)\n",
    "\n",
    "# def get_type_sme(name):\n",
    "#     result = \"Khác\"\n",
    "#     if name != \"\":\n",
    "#         if len([x for x in [\"tnhh\", \"trách nhiệm hữu hạn\"] if x in name]) > 0:\n",
    "#             result = \"TNHH MTV\"\n",
    "#         elif (\n",
    "#             len(\n",
    "#                 [\n",
    "#                     x\n",
    "#                     for x in [\n",
    "#                         \"ctcp\",\n",
    "#                         \"cổ phần\",\n",
    "#                         \"cô phân\",\n",
    "#                         \"cp\",\n",
    "#                         \"CÔ PHẦN\",\n",
    "#                         \"CÔ PHÁN\",\n",
    "#                         \"CÔ PHẢN\",\n",
    "#                         \"CÔ PHÁẢN\",\n",
    "#                         \"CÔ PHAN\",\n",
    "#                         \"CÔ PHÁÂN\",\n",
    "# \t\t\t\t\t\t\"CỔ PHẦN\",\n",
    "# \t\t\t\t\t\t\"CÔNG TY CỎ PHẦN\"\n",
    "#                     ]\n",
    "#                     if x.lower() in name\n",
    "#                 ]\n",
    "#             )\n",
    "#             > 0\n",
    "#         ):\n",
    "#             result = \"CTCP\"\n",
    "#         elif (\n",
    "#             len(\n",
    "#                 [\n",
    "#                     x\n",
    "#                     for x in [\n",
    "#                         \"Doanh Nghiệp Tư Nhân\",\n",
    "#                         \"DNTN\",\n",
    "#                         \"Doanh Nghiệp TN\",\n",
    "#                     ]\n",
    "#                     if x.lower() in name\n",
    "#                 ]\n",
    "#             )\n",
    "#             > 0\n",
    "#         ):\n",
    "#             result = \"DNTN\"\n",
    "#         elif (\n",
    "#             len(\n",
    "#                 [\n",
    "#                     x\n",
    "#                     for x in [\n",
    "#                         \"hợp danh\",\n",
    "#                     ]\n",
    "#                     if x.lower() in name\n",
    "#                 ]\n",
    "#             )\n",
    "#             > 0\n",
    "#         ):\n",
    "#             result = \"HD\"\n",
    "\n",
    "#     return result\n",
    "\n",
    "# clients_enterprise_sql[\"client_type\"] = clients_enterprise_sql[\"name\"].apply(\n",
    "#         lambda x: get_type_sme(x.lower())\n",
    "#     )\n",
    "\n",
    "# clients_enterprise_sql.to_sql(name=\"temp_enterprise\", index=False, con=sqlEngine, if_exists=\"replace\")\n",
    "# query = \"\"\"UPDATE gdt_origin as f INNER JOIN temp_enterprise AS t ON t.id = f.id SET f.client_type = t.client_type WHERE t.id = f.id\"\"\"\n",
    "# with sqlEngine.begin() as conn:\n",
    "# \tconn.execute(query)"
   ]
  },
  {
   "cell_type": "code",
   "execution_count": null,
   "metadata": {},
   "outputs": [],
   "source": [
    "# dn_2021_cp = dn_vnn_2021_df.copy()\n",
    "# dn_2021_children = dn_2021_cp[dn_2021_cp['Mã số thuế 2'] != \" \"]\n",
    "# dn_2021_parent = dn_2021_cp[dn_2021_cp['Mã số thuế 2'] == \" \"]\n"
   ]
  },
  {
   "cell_type": "code",
   "execution_count": null,
   "metadata": {},
   "outputs": [],
   "source": [
    "# dn_2021_children[\"MST\"] = \"'\" + dn_2021_children[\"Mã số thuế\"] + \"-\" + dn_2021_children[\"Mã số thuế 2\"]\n",
    "# dn_2021_parent[\"MST\"] = \"'\" + dn_2021_parent[\"Mã số thuế\"]\n",
    "# dn_2021_mst = pd.concat([dn_2021_children, dn_2021_parent])\n",
    "# dn_2021_mst.drop_duplicates('MST', inplace=True)\n",
    "# dn_2021_mst[\"client_type\"] = dn_2021_mst[\"Tên doanh nghiệp\"].apply(\n",
    "#         lambda x: get_type_sme(x.lower())\n",
    "#     )\n",
    "# dn_2021_mst"
   ]
  },
  {
   "cell_type": "code",
   "execution_count": null,
   "metadata": {},
   "outputs": [],
   "source": [
    "# dn_2021_in_gdt = dn_2021_mst[dn_2021_mst['MST'].isin(gdt_origin_df['mst'])]\n",
    "# dn_2021_not_in_gdt = dn_2021_mst[~dn_2021_mst['MST'].isin(gdt_origin_df['mst'])] "
   ]
  },
  {
   "cell_type": "code",
   "execution_count": null,
   "metadata": {},
   "outputs": [],
   "source": [
    "# dnm_df = pd.read_csv('../data/clients.csv')\n",
    "# dn_2021_in_dnm = dn_2021_mst[dn_2021_mst['MST'].isin(gdt_origin_df['mst'])]\n",
    "# dn_2021_not_in_dnm = dn_2021_mst[~dn_2021_mst['MST'].isin(gdt_origin_df['mst'])] \n"
   ]
  },
  {
   "cell_type": "code",
   "execution_count": null,
   "metadata": {},
   "outputs": [],
   "source": [
    "# dn_2021_not_in_dnm[['MST']].to_csv('mst_crawl.csv', index=False)"
   ]
  },
  {
   "cell_type": "code",
   "execution_count": null,
   "metadata": {},
   "outputs": [],
   "source": [
    "\"\"\" Update SME Main Business \"\"\"\n",
    "# query_origin = \"SELECT DISTINCT id, main_business FROM clients WHERE main_business <> ''\"\n",
    "# clients_origin_sql = pd.read_sql(query_origin, con=sqlEngine)\n",
    "# clients_origin_sql[\"main_business\"] = clients_origin_sql[\"main_business\"].str.lower()\n"
   ]
  },
  {
   "cell_type": "code",
   "execution_count": null,
   "metadata": {},
   "outputs": [],
   "source": [
    "# # clients_origin_sql[(~clients_origin_sql[\"main_business\"].str.contains(\"chi tiết\")) & (~clients_origin_sql[\"main_business\"].str.contains(\"chính\"))]\n",
    "# clients_chi_tiet = clients_origin_sql[(clients_origin_sql[\"main_business\"].str.contains(\"chi tiết\")) & (~clients_origin_sql[\"main_business\"].str.contains(\"chính\"))]\n",
    "# clients_chinh = clients_origin_sql[clients_origin_sql[\"main_business\"].str.contains(\"chính\")]\n",
    "# clients_chinh[\"check\"] = clients_chinh[\"main_business\"].str.count(\"\\.\")\n",
    "# clients_check = clients_chinh[(clients_chinh[\"check\"] > 1)]\n",
    "# clients_check[[\"chinh\", \"bo\"]] = clients_check[\"main_business\"].str.split(\"chính\", n=1, expand=True)\n",
    "\n",
    "# def get_main_business(business):\n",
    "# \tbusinesses = business.split(\" \")\n",
    "# \tfor i in range(len(businesses)-1, 0, -1):\n",
    "# \t\tif businesses[i].strip(\".\").isnumeric():\n",
    "# \t\t\tif i != -1:\n",
    "# \t\t\t\tbusiness = \" \".join(businesses[i:])\n",
    "# \t\t\t\tbreak\n",
    "\t\n",
    "# \treturn business\n",
    "\n",
    "# clients_check[\"chinh\"] = clients_check[\"chinh\"].apply(lambda x: get_main_business(x))\n",
    "# clients_check.to_sql(name=\"temp_clients\", index=False, con=sqlEngine, if_exists=\"replace\")\n",
    "# query = \"\"\"UPDATE clients as f INNER JOIN temp_clients AS t ON t.id = f.id SET f.main_business = t.main_business WHERE t.id = f.id\"\"\"\n",
    "# with sqlEngine.begin() as conn:\n",
    "# \tconn.execute(query)"
   ]
  }
 ],
 "metadata": {
  "kernelspec": {
   "display_name": "Python 3.9.10 64-bit",
   "language": "python",
   "name": "python3"
  },
  "language_info": {
   "codemirror_mode": {
    "name": "ipython",
    "version": 3
   },
   "file_extension": ".py",
   "mimetype": "text/x-python",
   "name": "python",
   "nbconvert_exporter": "python",
   "pygments_lexer": "ipython3",
   "version": "3.9.6"
  },
  "orig_nbformat": 4,
  "vscode": {
   "interpreter": {
    "hash": "c5480b40a0632cec59876b54e80e938058e086ea32829f46bcbb182f42496bd3"
   }
  }
 },
 "nbformat": 4,
 "nbformat_minor": 2
}
