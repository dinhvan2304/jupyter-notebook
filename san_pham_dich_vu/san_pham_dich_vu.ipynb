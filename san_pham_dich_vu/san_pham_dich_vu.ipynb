{
 "cells": [
  {
   "cell_type": "code",
   "execution_count": null,
   "metadata": {},
   "outputs": [],
   "source": [
    "service = pd.read_excel('/Users/dinhvan/Projects/Code/jupyter/split_location_detail/chọn dịch vụ sử dụng sớm nhất.xlsx', dtype = str)\n",
    "service['MST'] = service['MST'].str.replace(' ','')\n",
    "service = service.drop_duplicates(subset=['MST', 'DAY'], keep = 'first', ignore_index=True)\n",
    "service['temp'] = service['MST'] + service['DAY']\n",
    "dict_dv = dict(zip(service['temp'], service['Ma Tb']))\n",
    "dict_thang = dict(zip(service['temp'], service['MONTH']))\n",
    "\n",
    "result_temp = service.groupby('MST',as_index = False)['DAY'].min()\n",
    "result_temp['temp'] = result_temp['MST']+result_temp['DAY']\n",
    "result_temp['Ma Tb'] = result_temp['temp'].map(dict_dv)\n",
    "result_temp['MONTH'] = result_temp['temp'].map(dict_thang)"
   ]
  }
 ],
 "metadata": {
  "language_info": {
   "name": "python"
  },
  "orig_nbformat": 4
 },
 "nbformat": 4,
 "nbformat_minor": 2
}
