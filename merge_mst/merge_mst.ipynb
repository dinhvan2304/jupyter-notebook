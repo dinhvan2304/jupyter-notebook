{
 "cells": [
  {
   "cell_type": "code",
   "execution_count": null,
   "metadata": {},
   "outputs": [],
   "source": [
    "import pandas as pd\n",
    "import numpy as np\n",
    "\n",
    "data_1 = pd.read_csv('/Users/dinhvan/Documents/Projects/Crawl/jupyter/merge_mst/data_input/masothue_url_cut1.csv',names=['mst', 'url'],dtype = {'MST': np.str})\n",
    "data_2 = pd.read_csv('/Users/dinhvan/Documents/Projects/Crawl/jupyter/merge_mst/data_input/masothue_url_dhsxkd.csv',dtype = {'MST':np.str})\n",
    "data_3 = pd.read_csv('/Users/dinhvan/Documents/Projects/Crawl/jupyter/merge_mst/data_input/masothue_url.csv',dtype = {'MST':np.str})\n",
    "data_1 = data_1.drop(data_1.columns[[0]],axis = 1)\n",
    "data = pd.concat([data_1,data_2,data_3],ignore_index= True)\n",
    "# data.loc[(data['MST'].str.len() != 10) & (data['MST'].str.len() != 14)]\n",
    "data = data.drop_duplicates(subset=['MST'],keep= 'first')\n",
    "data = data.reset_index(drop = True)\n",
    "# data.to_csv('/Users/dinhvan/Documents/Projects/Crawl/jupyter/merge_mst/data_output/url_mst.csv',index = False)\n"
   ]
  },
  {
   "cell_type": "code",
   "execution_count": null,
   "metadata": {},
   "outputs": [],
   "source": [
    "import pandas as pd\n",
    "import numpy as np\n",
    "from sqlalchemy import create_engine, text\n",
    "from urllib.parse import quote\n",
    "TYPE_UPDATE = 0\n",
    "TYPE_INSERT = 1\n",
    "mst_urls = pd.read_csv('/Users/dinhvan/Documents/Projects/Crawl/jupyter/merge_mst/data_output/url_mst.csv', dtype = object)\n",
    "mst_urls[\"mst_check\"] = \"'\" + mst_urls[\"MST\"]\n",
    "append_type = TYPE_INSERT\n",
    "if append_type == TYPE_INSERT:\n",
    "    sqlEngine = create_engine(\"mysql+pymysql://vantt:%s@172.16.10.112:3306/hkd\" % quote(\"Ptdl@123\"))\n",
    "    query_origin = \"SELECT DISTINCT mst as mst_check FROM clients\"\n",
    "    mst_existed = pd.read_sql(query_origin, con=sqlEngine)\n",
    "    print(mst_existed)\n",
    "    df_all = mst_urls.merge(\n",
    "        mst_existed.drop_duplicates(),\n",
    "        on=[\"mst_check\"],\n",
    "        how=\"left\",\n",
    "        indicator=True,\n",
    "    )\n",
    "    ma_so_thue_urls = df_all[df_all[\"_merge\"] == \"left_only\"]['url'].values.tolist()\n",
    "elif append_type == TYPE_UPDATE:\n",
    "    ma_so_thue_urls = mst_urls['url'].values.tolist()\n",
    "# mst_urls\n"
   ]
  }
 ],
 "metadata": {
  "kernelspec": {
   "display_name": "Python 3.9.6 64-bit",
   "language": "python",
   "name": "python3"
  },
  "language_info": {
   "codemirror_mode": {
    "name": "ipython",
    "version": 3
   },
   "file_extension": ".py",
   "mimetype": "text/x-python",
   "name": "python",
   "nbconvert_exporter": "python",
   "pygments_lexer": "ipython3",
   "version": "3.9.6 (default, Sep 26 2022, 11:37:49) \n[Clang 14.0.0 (clang-1400.0.29.202)]"
  },
  "orig_nbformat": 4,
  "vscode": {
   "interpreter": {
    "hash": "31f2aee4e71d21fbe5cf8b01ff0e069b9275f58929596ceb00d14d90e3e16cd6"
   }
  }
 },
 "nbformat": 4,
 "nbformat_minor": 2
}
